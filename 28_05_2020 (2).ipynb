{
  "nbformat": 4,
  "nbformat_minor": 0,
  "metadata": {
    "kernelspec": {
      "display_name": "Python 3",
      "language": "python",
      "name": "python3"
    },
    "language_info": {
      "codemirror_mode": {
        "name": "ipython",
        "version": 3
      },
      "file_extension": ".py",
      "mimetype": "text/x-python",
      "name": "python",
      "nbconvert_exporter": "python",
      "pygments_lexer": "ipython3",
      "version": "3.7.6"
    },
    "colab": {
      "name": "28-05-2020.ipynb",
      "provenance": []
    }
  },
  "cells": [
    {
      "cell_type": "code",
      "metadata": {
        "id": "V-koY0E0bxlJ",
        "colab_type": "code",
        "colab": {},
        "outputId": "1cc46e6c-2d67-4dd3-a1fb-df112cfdeb49"
      },
      "source": [
        "s1=input(\"enter the string :\")\n",
        "s2= 'good afternoon'\n",
        "print(type(s1),type(s2))"
      ],
      "execution_count": 0,
      "outputs": [
        {
          "output_type": "stream",
          "text": [
            "enter the string :good afternoon\n",
            "<class 'str'> <class 'str'>\n"
          ],
          "name": "stdout"
        }
      ]
    },
    {
      "cell_type": "code",
      "metadata": {
        "id": "ckeUdNyjbxlO",
        "colab_type": "code",
        "colab": {},
        "outputId": "b854994d-7388-44ec-cb4a-7e38797580f0"
      },
      "source": [
        "#operators: +,*(repition),[]slice,[start:stop](slice range )\n",
        "print(s1 + s2)#concatenantion\n",
        "print(s1 * 3)#repition\n",
        "print(s1[4])#slicings\n",
        "print(s1[-1])#slicing\n",
        "print(s1[2:])#start=0,stop=length of the string,step=1"
      ],
      "execution_count": 0,
      "outputs": [
        {
          "output_type": "stream",
          "text": [
            "hellogood afternoon\n",
            "hellohellohello\n",
            "o\n",
            "o\n",
            "llo\n"
          ],
          "name": "stdout"
        }
      ]
    },
    {
      "cell_type": "code",
      "metadata": {
        "id": "AoEtQkDqbxlR",
        "colab_type": "code",
        "colab": {},
        "outputId": "d0b770d9-c9be-4902-8c40-80985e86dd63"
      },
      "source": [
        "print(s1[0:5])\n",
        "print(s1[:])"
      ],
      "execution_count": 0,
      "outputs": [
        {
          "output_type": "stream",
          "text": [
            "hello\n",
            "hello\n"
          ],
          "name": "stdout"
        }
      ]
    },
    {
      "cell_type": "code",
      "metadata": {
        "id": "O74DtOMVbxlT",
        "colab_type": "code",
        "colab": {},
        "outputId": "8ad38151-717a-47fd-890f-c44399015e37"
      },
      "source": [
        "# print alternate characters of string\n",
        "print(s1[::2])"
      ],
      "execution_count": 0,
      "outputs": [
        {
          "output_type": "stream",
          "text": [
            "hlo\n"
          ],
          "name": "stdout"
        }
      ]
    },
    {
      "cell_type": "code",
      "metadata": {
        "scrolled": true,
        "id": "xtg3Li4ybxlV",
        "colab_type": "code",
        "colab": {},
        "outputId": "6f632905-3752-4ac1-98fb-4ca93e935ab0"
      },
      "source": [
        "#accept a string from the user and check whether it is a palindrome or not\n",
        "s3= input(\"enter a number :\")\n",
        "if s3== s3[::-1]:\n",
        "    print(\"the given number is  palindrome \")\n",
        "else:\n",
        "        print (\"the given number is not palindrome\")"
      ],
      "execution_count": 0,
      "outputs": [
        {
          "output_type": "stream",
          "text": [
            "enter a number :101\n",
            "the given number is  palindrome \n"
          ],
          "name": "stdout"
        }
      ]
    },
    {
      "cell_type": "code",
      "metadata": {
        "id": "WXWB4szzbxlX",
        "colab_type": "code",
        "colab": {}
      },
      "source": [
        "s4= \"python\"\n"
      ],
      "execution_count": 0,
      "outputs": []
    },
    {
      "cell_type": "code",
      "metadata": {
        "id": "Iwuo1BCCbxla",
        "colab_type": "code",
        "colab": {},
        "outputId": "ab8f76ad-b469-4373-a148-98950e2a6b09"
      },
      "source": [
        "s=\"hello\"\n",
        "print(len(s))#function name())\n",
        "s=s.capitalize()\n",
        "print(s)"
      ],
      "execution_count": 0,
      "outputs": [
        {
          "output_type": "stream",
          "text": [
            "5\n",
            "Hello\n"
          ],
          "name": "stdout"
        }
      ]
    },
    {
      "cell_type": "code",
      "metadata": {
        "id": "QXCKVwbBbxlc",
        "colab_type": "code",
        "colab": {},
        "outputId": "a6d7cb3e-5237-4446-9d1f-09de9e1548ec"
      },
      "source": [
        "s1 = \"hello\"\n",
        "s2 = \"abc123\"\n",
        "s3 =\"123\"\n",
        "print(s1.isalnum())\n",
        "print(s1.isalpha())\n",
        "print(s1.isdigit())\n",
        "print(s2.isalnum())\n",
        "print(s2.isalpha())\n",
        "print(s2.isdigit())\n",
        "print(s3.isalnum())\n",
        "print(s3.isalpha())\n",
        "print(s3.isdigit())"
      ],
      "execution_count": 0,
      "outputs": [
        {
          "output_type": "stream",
          "text": [
            "True\n",
            "True\n",
            "False\n",
            "True\n",
            "False\n",
            "False\n",
            "True\n",
            "False\n",
            "True\n"
          ],
          "name": "stdout"
        }
      ]
    },
    {
      "cell_type": "code",
      "metadata": {
        "id": "3YIeX4rqbxle",
        "colab_type": "code",
        "colab": {},
        "outputId": "a6834b9e-33ee-4505-a8b2-cddd13935c44"
      },
      "source": [
        "s1 = \" python\"\n",
        "s2 = \"PYTHON\"\n",
        "print(s1.isupper())\n",
        "print(s2.islower())\n",
        "print(s1.swapcase())"
      ],
      "execution_count": 0,
      "outputs": [
        {
          "output_type": "stream",
          "text": [
            "False\n",
            "False\n",
            " PYTHON\n"
          ],
          "name": "stdout"
        }
      ]
    },
    {
      "cell_type": "code",
      "metadata": {
        "id": "FraVfvZIbxlg",
        "colab_type": "code",
        "colab": {},
        "outputId": "272f052e-0287-4bb6-d8fc-258b224a6681"
      },
      "source": [
        "s = \"abc abc abc \"\n",
        "s.count(\"abc\")"
      ],
      "execution_count": 0,
      "outputs": [
        {
          "output_type": "execute_result",
          "data": {
            "text/plain": [
              "3"
            ]
          },
          "metadata": {
            "tags": []
          },
          "execution_count": 25
        }
      ]
    },
    {
      "cell_type": "code",
      "metadata": {
        "id": "QGcL9Tr2bxli",
        "colab_type": "code",
        "colab": {},
        "outputId": "8bcbef63-fb63-4c05-e266-fb78d30822dc"
      },
      "source": [
        "s.split()\n",
        "print(s.split())\n",
        "s1=\"a,b,c,d\"\n",
        "print(s1.split(\",\"))"
      ],
      "execution_count": 0,
      "outputs": [
        {
          "output_type": "stream",
          "text": [
            "['abc', 'abc', 'abc']\n",
            "['a', 'b', 'c', 'd']\n"
          ],
          "name": "stdout"
        }
      ]
    },
    {
      "cell_type": "code",
      "metadata": {
        "id": "lDBdot5rbxlj",
        "colab_type": "code",
        "colab": {},
        "outputId": "352e5fda-d6a9-453b-d6fb-c8790e1cdac7"
      },
      "source": [
        "# replace \n",
        "s = \"abc\"#azc\n",
        "s = s.replace ('d','z')\n",
        "print(s)"
      ],
      "execution_count": 0,
      "outputs": [
        {
          "output_type": "stream",
          "text": [
            "abc\n"
          ],
          "name": "stdout"
        }
      ]
    },
    {
      "cell_type": "code",
      "metadata": {
        "id": "8Vh9hv72bxll",
        "colab_type": "code",
        "colab": {},
        "outputId": "bb455029-0300-4b9d-c9bb-d9d15922b499"
      },
      "source": [
        "#accept a number(n) from the user and remove the nth position\n",
        "#  charater from the string\n",
        "# n =3\n",
        "# s = abcabc\n",
        "# output : ababc\n",
        "n = int(input( \"enter position\"))\n",
        "s= input (\"enter the string\")\n",
        "print(s.replace(s[n-1],\"\",1))"
      ],
      "execution_count": 0,
      "outputs": [
        {
          "output_type": "stream",
          "text": [
            "enter position3\n",
            "enter the stringabcabc\n",
            "ababc\n"
          ],
          "name": "stdout"
        }
      ]
    },
    {
      "cell_type": "code",
      "metadata": {
        "id": "bgQrmhPIbxln",
        "colab_type": "code",
        "colab": {}
      },
      "source": [
        "### for loop:\n",
        "1. for loop with range () function\n",
        "2. for loop with iterable object\n"
      ],
      "execution_count": 0,
      "outputs": []
    },
    {
      "cell_type": "code",
      "metadata": {
        "id": "L01Xt-GPbxlq",
        "colab_type": "code",
        "colab": {},
        "outputId": "bc7cefe5-49e4-4e4f-9927-78bd8cfab147"
      },
      "source": [
        "# print 1-n numbers on the screen\n",
        "n=10\n",
        "for i in range(1,n+1):\n",
        "print(i,end = \" \")\n",
        "print()\n",
        "i = 1\n",
        "while 1<=n:\n",
        "    print(i,end= \" \")\n",
        "    i += 1\n",
        "    "
      ],
      "execution_count": 0,
      "outputs": [
        {
          "output_type": "error",
          "ename": "IndentationError",
          "evalue": "expected an indented block (<ipython-input-41-02278638e0d7>, line 4)",
          "traceback": [
            "\u001b[1;36m  File \u001b[1;32m\"<ipython-input-41-02278638e0d7>\"\u001b[1;36m, line \u001b[1;32m4\u001b[0m\n\u001b[1;33m    print(i,end = \" \")\u001b[0m\n\u001b[1;37m        ^\u001b[0m\n\u001b[1;31mIndentationError\u001b[0m\u001b[1;31m:\u001b[0m expected an indented block\n"
          ]
        }
      ]
    },
    {
      "cell_type": "code",
      "metadata": {
        "id": "c4kY9Bmkbxlu",
        "colab_type": "code",
        "colab": {},
        "outputId": "fe8e7497-9e98-4d26-d3eb-71b52391ebab"
      },
      "source": [
        "s= \"python \"\n",
        "for i in s:\n",
        "    print(i)\n",
        "    i = 0\n",
        "    while i <= len(s)\n",
        "    print(s[i])\n",
        "    i += 1\n",
        "    \n",
        "    "
      ],
      "execution_count": 0,
      "outputs": [
        {
          "output_type": "stream",
          "text": [
            "p\n",
            "y\n",
            "t\n",
            "h\n",
            "o\n",
            "n\n",
            " \n"
          ],
          "name": "stdout"
        }
      ]
    },
    {
      "cell_type": "code",
      "metadata": {
        "id": "FxR4F5Cubxlx",
        "colab_type": "code",
        "colab": {},
        "outputId": "026fb8be-7b63-45e8-a7d2-be69f8daf6a2"
      },
      "source": [
        "s = \"python \"\n",
        "for i in s:\n",
        "    print(i)\n",
        "    i=0\n",
        "    while  i < len(s)\n",
        "    print(s[i])\n",
        "    i += 1\n",
        "    \n",
        "    for j in range (0,len(s)):\n",
        "        print(s[j])\n",
        "    "
      ],
      "execution_count": 0,
      "outputs": [
        {
          "output_type": "error",
          "ename": "SyntaxError",
          "evalue": "invalid syntax (<ipython-input-44-79b8fc65e840>, line 5)",
          "traceback": [
            "\u001b[1;36m  File \u001b[1;32m\"<ipython-input-44-79b8fc65e840>\"\u001b[1;36m, line \u001b[1;32m5\u001b[0m\n\u001b[1;33m    while  i < len(s)\u001b[0m\n\u001b[1;37m                     ^\u001b[0m\n\u001b[1;31mSyntaxError\u001b[0m\u001b[1;31m:\u001b[0m invalid syntax\n"
          ]
        }
      ]
    },
    {
      "cell_type": "code",
      "metadata": {
        "id": "03d_BNgNbxl1",
        "colab_type": "code",
        "colab": {}
      },
      "source": [
        ""
      ],
      "execution_count": 0,
      "outputs": []
    },
    {
      "cell_type": "code",
      "metadata": {
        "id": "CEVyLsT-bxl6",
        "colab_type": "code",
        "colab": {}
      },
      "source": [
        ""
      ],
      "execution_count": 0,
      "outputs": []
    }
  ]
}