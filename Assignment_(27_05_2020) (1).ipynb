{
  "nbformat": 4,
  "nbformat_minor": 0,
  "metadata": {
    "kernelspec": {
      "display_name": "Python 3",
      "language": "python",
      "name": "python3"
    },
    "language_info": {
      "codemirror_mode": {
        "name": "ipython",
        "version": 3
      },
      "file_extension": ".py",
      "mimetype": "text/x-python",
      "name": "python",
      "nbconvert_exporter": "python",
      "pygments_lexer": "ipython3",
      "version": "3.7.4"
    },
    "colab": {
      "name": "Assignment-(27-05-2020).ipynb",
      "provenance": []
    }
  },
  "cells": [
    {
      "cell_type": "code",
      "metadata": {
        "id": "SOo-QVqk0AB-",
        "colab_type": "code",
        "colab": {},
        "outputId": "52dd8cdf-6b18-4218-bc20-120dc467a1ec"
      },
      "source": [
        "def pattern(n): \n",
        "      \n",
        "    for i in range(0, n): \n",
        "      \n",
        "        for j in range(0, i+1): \n",
        "         \n",
        "            print(\"* \",end=\"\") \n",
        "       \n",
        "        print(\"\\r\") \n",
        "n = 5\n",
        "pattern(n) "
      ],
      "execution_count": 0,
      "outputs": [
        {
          "output_type": "stream",
          "text": [
            "* \r\n",
            "* * \r\n",
            "* * * \r\n",
            "* * * * \r\n",
            "* * * * * \r\n"
          ],
          "name": "stdout"
        }
      ]
    },
    {
      "cell_type": "code",
      "metadata": {
        "id": "jUmtkIpo0ACX",
        "colab_type": "code",
        "colab": {},
        "outputId": "f5d7c7e3-639a-44fa-f367-ea2d22e900fe"
      },
      "source": [
        "num=int(input(\"enter n:\"))\n",
        "\n",
        "for i in range(1, 11):\n",
        "   print(num, 'x', i, '=', num*i)"
      ],
      "execution_count": 0,
      "outputs": [
        {
          "output_type": "stream",
          "text": [
            "enter n:7\n",
            "7 x 1 = 7\n",
            "7 x 2 = 14\n",
            "7 x 3 = 21\n",
            "7 x 4 = 28\n",
            "7 x 5 = 35\n",
            "7 x 6 = 42\n",
            "7 x 7 = 49\n",
            "7 x 8 = 56\n",
            "7 x 9 = 63\n",
            "7 x 10 = 70\n"
          ],
          "name": "stdout"
        }
      ]
    },
    {
      "cell_type": "code",
      "metadata": {
        "id": "5EX3s-WX0ACl",
        "colab_type": "code",
        "colab": {},
        "outputId": "40e3f980-4ef5-4b8d-f21e-631e597f4302"
      },
      "source": [
        "from math import sqrt\n",
        "a = float(input(\"a: \"))\n",
        "b = float(input(\"b: \"))\n",
        "c = float(input(\"c: \"))\n",
        "\n",
        "r = b**2 - 4*a*c\n",
        "\n",
        "if r > 0:\n",
        "    num_roots = 2\n",
        "    x1 = (((-b) + sqrt(r))/(2*a))     \n",
        "    x2 = (((-b) - sqrt(r))/(2*a))\n",
        "    print(\"There are 2 roots: %f and %f\" % (x1, x2))\n",
        "elif r == 0:\n",
        "    num_roots = 1\n",
        "    x = (-b) / 2*a\n",
        "    print(\"There is one root: \", x)\n",
        "else:\n",
        "    num_roots = 0\n",
        "    print(\"No roots, discriminant < 0.\")\n",
        "    exit()\n",
        "\t"
      ],
      "execution_count": 0,
      "outputs": [
        {
          "output_type": "stream",
          "text": [
            "a: 5\n",
            "b: 20\n",
            "c: 10\n",
            "There are 2 roots: -0.585786 and -3.414214\n"
          ],
          "name": "stdout"
        }
      ]
    },
    {
      "cell_type": "code",
      "metadata": {
        "id": "7K0GJCSp0AC0",
        "colab_type": "code",
        "colab": {},
        "outputId": "d26de892-c29d-4802-9871-2e57d13051ad"
      },
      "source": [
        "def decimalToBinary(num):\n",
        "    if num > 1:\n",
        "        decimalToBinary(num // 2)\n",
        "    print(num % 2, end='')\n",
        "\n",
        "number = int(input(\"Enter a num \"))\n",
        "\n",
        "decimalToBinary(number)"
      ],
      "execution_count": 0,
      "outputs": [
        {
          "output_type": "stream",
          "text": [
            "Enter a num 45\n",
            "101101"
          ],
          "name": "stdout"
        }
      ]
    },
    {
      "cell_type": "code",
      "metadata": {
        "id": "dc0FMalT0ADC",
        "colab_type": "code",
        "colab": {},
        "outputId": "630c1b38-d199-4f29-ae79-f32c90d6972e"
      },
      "source": [
        "n = int(input(\"enter n \"))\n",
        "n1= 0\n",
        "n2=1\n",
        "count = 0\n",
        "while count < n:\n",
        "       print(n1)\n",
        "       nth = n1 + n2\n",
        "       n1 = n2\n",
        "       n2 = nth\n",
        "       count += 1"
      ],
      "execution_count": 0,
      "outputs": [
        {
          "output_type": "stream",
          "text": [
            "enter n 7\n",
            "0\n",
            "1\n",
            "1\n",
            "2\n",
            "3\n",
            "5\n",
            "8\n"
          ],
          "name": "stdout"
        }
      ]
    },
    {
      "cell_type": "code",
      "metadata": {
        "id": "ot1cERKk0ADO",
        "colab_type": "code",
        "colab": {}
      },
      "source": [
        ""
      ],
      "execution_count": 0,
      "outputs": []
    }
  ]
}